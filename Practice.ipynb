{
 "cells": [
  {
   "cell_type": "code",
   "execution_count": 2,
   "source": [
    "import pandas as pd\r\n",
    "import matplotlib.pyplot as plt\r\n",
    "\r\n",
    "scottish_hills = {'Hill Name': ['Ben Nevis', 'Ben Macdui', 'Braeriach', 'Cairn Toul', 'Sgòr an Lochain Uaine'],\r\n",
    "                  'Height': [1345, 1309, 1296, 1291, 1258],\r\n",
    "                  'Latitude': [56.79685, 57.070453, 57.078628, 57.054611, 57.057999],\r\n",
    "                  'Longitude': [-5.003508, -3.668262, -3.728024, -3.71042, -3.725416]}"
   ],
   "outputs": [],
   "metadata": {}
  },
  {
   "cell_type": "code",
   "execution_count": 4,
   "source": [
    "df = pd.DataFrame(scottish_hills)\r\n",
    "df"
   ],
   "outputs": [
    {
     "output_type": "execute_result",
     "data": {
      "text/html": [
       "<div>\n",
       "<style scoped>\n",
       "    .dataframe tbody tr th:only-of-type {\n",
       "        vertical-align: middle;\n",
       "    }\n",
       "\n",
       "    .dataframe tbody tr th {\n",
       "        vertical-align: top;\n",
       "    }\n",
       "\n",
       "    .dataframe thead th {\n",
       "        text-align: right;\n",
       "    }\n",
       "</style>\n",
       "<table border=\"1\" class=\"dataframe\">\n",
       "  <thead>\n",
       "    <tr style=\"text-align: right;\">\n",
       "      <th></th>\n",
       "      <th>Hill Name</th>\n",
       "      <th>Height</th>\n",
       "      <th>Latitude</th>\n",
       "      <th>Longitude</th>\n",
       "    </tr>\n",
       "  </thead>\n",
       "  <tbody>\n",
       "    <tr>\n",
       "      <th>0</th>\n",
       "      <td>Ben Nevis</td>\n",
       "      <td>1345</td>\n",
       "      <td>56.796850</td>\n",
       "      <td>-5.003508</td>\n",
       "    </tr>\n",
       "    <tr>\n",
       "      <th>1</th>\n",
       "      <td>Ben Macdui</td>\n",
       "      <td>1309</td>\n",
       "      <td>57.070453</td>\n",
       "      <td>-3.668262</td>\n",
       "    </tr>\n",
       "    <tr>\n",
       "      <th>2</th>\n",
       "      <td>Braeriach</td>\n",
       "      <td>1296</td>\n",
       "      <td>57.078628</td>\n",
       "      <td>-3.728024</td>\n",
       "    </tr>\n",
       "    <tr>\n",
       "      <th>3</th>\n",
       "      <td>Cairn Toul</td>\n",
       "      <td>1291</td>\n",
       "      <td>57.054611</td>\n",
       "      <td>-3.710420</td>\n",
       "    </tr>\n",
       "    <tr>\n",
       "      <th>4</th>\n",
       "      <td>Sgòr an Lochain Uaine</td>\n",
       "      <td>1258</td>\n",
       "      <td>57.057999</td>\n",
       "      <td>-3.725416</td>\n",
       "    </tr>\n",
       "  </tbody>\n",
       "</table>\n",
       "</div>"
      ],
      "text/plain": [
       "               Hill Name  Height   Latitude  Longitude\n",
       "0              Ben Nevis    1345  56.796850  -5.003508\n",
       "1             Ben Macdui    1309  57.070453  -3.668262\n",
       "2              Braeriach    1296  57.078628  -3.728024\n",
       "3             Cairn Toul    1291  57.054611  -3.710420\n",
       "4  Sgòr an Lochain Uaine    1258  57.057999  -3.725416"
      ]
     },
     "metadata": {},
     "execution_count": 4
    }
   ],
   "metadata": {}
  },
  {
   "cell_type": "code",
   "execution_count": 10,
   "source": [
    "df.iloc[1]"
   ],
   "outputs": [
    {
     "output_type": "execute_result",
     "data": {
      "text/plain": [
       "Hill Name    Ben Macdui\n",
       "Height             1309\n",
       "Latitude        57.0705\n",
       "Longitude      -3.66826\n",
       "Name: 1, dtype: object"
      ]
     },
     "metadata": {},
     "execution_count": 10
    }
   ],
   "metadata": {}
  },
  {
   "cell_type": "code",
   "execution_count": 13,
   "source": [
    "df.Height == 1258"
   ],
   "outputs": [
    {
     "output_type": "execute_result",
     "data": {
      "text/plain": [
       "0    False\n",
       "1    False\n",
       "2    False\n",
       "3    False\n",
       "4     True\n",
       "Name: Height, dtype: bool"
      ]
     },
     "metadata": {},
     "execution_count": 13
    }
   ],
   "metadata": {}
  },
  {
   "cell_type": "code",
   "execution_count": 17,
   "source": [
    "df['Height'] > 1300\r\n",
    "df['Region'] = ['Grampian', 'Cairngorm', 'Cairngorm', 'Cairngorm', 'Cairngorm']\r\n",
    "df\r\n"
   ],
   "outputs": [
    {
     "output_type": "execute_result",
     "data": {
      "text/html": [
       "<div>\n",
       "<style scoped>\n",
       "    .dataframe tbody tr th:only-of-type {\n",
       "        vertical-align: middle;\n",
       "    }\n",
       "\n",
       "    .dataframe tbody tr th {\n",
       "        vertical-align: top;\n",
       "    }\n",
       "\n",
       "    .dataframe thead th {\n",
       "        text-align: right;\n",
       "    }\n",
       "</style>\n",
       "<table border=\"1\" class=\"dataframe\">\n",
       "  <thead>\n",
       "    <tr style=\"text-align: right;\">\n",
       "      <th></th>\n",
       "      <th>Hill Name</th>\n",
       "      <th>Height</th>\n",
       "      <th>Latitude</th>\n",
       "      <th>Longitude</th>\n",
       "      <th>Region</th>\n",
       "    </tr>\n",
       "  </thead>\n",
       "  <tbody>\n",
       "    <tr>\n",
       "      <th>0</th>\n",
       "      <td>Ben Nevis</td>\n",
       "      <td>1345</td>\n",
       "      <td>56.796850</td>\n",
       "      <td>-5.003508</td>\n",
       "      <td>Grampian</td>\n",
       "    </tr>\n",
       "    <tr>\n",
       "      <th>1</th>\n",
       "      <td>Ben Macdui</td>\n",
       "      <td>1309</td>\n",
       "      <td>57.070453</td>\n",
       "      <td>-3.668262</td>\n",
       "      <td>Cairngorm</td>\n",
       "    </tr>\n",
       "    <tr>\n",
       "      <th>2</th>\n",
       "      <td>Braeriach</td>\n",
       "      <td>1296</td>\n",
       "      <td>57.078628</td>\n",
       "      <td>-3.728024</td>\n",
       "      <td>Cairngorm</td>\n",
       "    </tr>\n",
       "    <tr>\n",
       "      <th>3</th>\n",
       "      <td>Cairn Toul</td>\n",
       "      <td>1291</td>\n",
       "      <td>57.054611</td>\n",
       "      <td>-3.710420</td>\n",
       "      <td>Cairngorm</td>\n",
       "    </tr>\n",
       "    <tr>\n",
       "      <th>4</th>\n",
       "      <td>Sgòr an Lochain Uaine</td>\n",
       "      <td>1258</td>\n",
       "      <td>57.057999</td>\n",
       "      <td>-3.725416</td>\n",
       "      <td>Cairngorm</td>\n",
       "    </tr>\n",
       "  </tbody>\n",
       "</table>\n",
       "</div>"
      ],
      "text/plain": [
       "               Hill Name  Height   Latitude  Longitude     Region\n",
       "0              Ben Nevis    1345  56.796850  -5.003508   Grampian\n",
       "1             Ben Macdui    1309  57.070453  -3.668262  Cairngorm\n",
       "2              Braeriach    1296  57.078628  -3.728024  Cairngorm\n",
       "3             Cairn Toul    1291  57.054611  -3.710420  Cairngorm\n",
       "4  Sgòr an Lochain Uaine    1258  57.057999  -3.725416  Cairngorm"
      ]
     },
     "metadata": {},
     "execution_count": 17
    }
   ],
   "metadata": {}
  },
  {
   "cell_type": "code",
   "execution_count": null,
   "source": [],
   "outputs": [],
   "metadata": {}
  }
 ],
 "metadata": {
  "orig_nbformat": 4,
  "language_info": {
   "name": "python",
   "version": "3.8.5",
   "mimetype": "text/x-python",
   "codemirror_mode": {
    "name": "ipython",
    "version": 3
   },
   "pygments_lexer": "ipython3",
   "nbconvert_exporter": "python",
   "file_extension": ".py"
  },
  "kernelspec": {
   "name": "python3",
   "display_name": "Python 3.8.5 64-bit ('base': conda)"
  },
  "interpreter": {
   "hash": "b454b224ce6a41940f39510cf6cc08295f13ff69c29190930925e48dd676922e"
  }
 },
 "nbformat": 4,
 "nbformat_minor": 2
}