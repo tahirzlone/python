{
 "cells": [
  {
   "cell_type": "code",
   "execution_count": 1,
   "source": [
    "import pandas as pd\r\n",
    "import numpy as np\r\n",
    "\r\n",
    "df = pd.read_csv(\"C:/Users/tahir/Documents/Python Datasets/adult_data.csv\")\r\n"
   ],
   "outputs": [],
   "metadata": {}
  },
  {
   "cell_type": "code",
   "execution_count": 66,
   "source": [
    "# How many of each race are represented in this dataset? This should be a Pandas series with race names as the index labels\r\n",
    "\r\n",
    "race_count = df[\"race\"].value_counts().to_list()\r\n",
    "print(race_count)"
   ],
   "outputs": [
    {
     "output_type": "stream",
     "name": "stdout",
     "text": [
      "[27816, 3124, 1039, 311, 271]\n"
     ]
    }
   ],
   "metadata": {}
  },
  {
   "cell_type": "code",
   "execution_count": 3,
   "source": [
    "# What is the average age of men?\r\n",
    "\r\n",
    "average_age_men = df[df[\"sex\"] == \"Male\"][\"age\"]\r\n",
    "average_age_men = round(np.mean(average_age_men), 1)\r\n",
    "\r\n",
    "print(average_age_men)\r\n"
   ],
   "outputs": [
    {
     "output_type": "stream",
     "name": "stdout",
     "text": [
      "39.4\n"
     ]
    }
   ],
   "metadata": {}
  },
  {
   "cell_type": "code",
   "execution_count": 30,
   "source": [
    "# What is the percentage of people who have a Bachelor's degree?\r\n",
    "df.head()\r\n",
    "\r\n",
    "bachelors_degree = len(df[df[\"education\"] == \"Bachelors\"])\r\n",
    "total_education = len(df[\"education\"])\r\n",
    "\r\n",
    "percentage = (bachelors_degree / total_education) * 100\r\n",
    "percentage = round(percentage, 1)\r\n",
    "print(percentage)\r\n",
    "\r\n"
   ],
   "outputs": [
    {
     "output_type": "stream",
     "name": "stdout",
     "text": [
      "16.4\n"
     ]
    }
   ],
   "metadata": {}
  },
  {
   "cell_type": "code",
   "execution_count": 37,
   "source": [
    "# What percentage of people with advanced education (`Bachelors`, `Masters`, or `Doctorate`) make more than 50K?\r\n",
    "# What percentage of people without advanced education make more than 50K?\r\n",
    "\r\n",
    "higher_education = df.loc[(df[\"education\"].str.startswith(\"B\")) | (df[\"education\"].str.startswith(\"M\")) | (df[\"education\"].str.startswith(\"D\"))][df[\"salary\"] == \">50K\"]\r\n",
    "higher_education2 = df.loc[(df[\"education\"].str.startswith(\"B\")) | (df[\"education\"].str.startswith(\"M\")) | (df[\"education\"].str.startswith(\"D\"))]\r\n",
    "lower_education = df.loc[df[\"salary\"] == \">50K\"]\r\n",
    "lower_education = len(lower_education) - len(higher_education)\r\n",
    "higher_education_rich = round(len(higher_education) / len(higher_education2) * 100, 2)\r\n",
    "lower_education_rich = round(100 * (lower_education / (total_education - len(higher_education2))), 2)\r\n",
    "\r\n",
    "\r\n",
    "\r\n",
    "print(\"Higher Education : \" + str(higher_education_rich))\r\n",
    "print(\"Lower Education : \" + str(lower_education_rich))"
   ],
   "outputs": [
    {
     "output_type": "stream",
     "name": "stdout",
     "text": [
      "Higher Education : 46.54\n",
      "Lower Education : 17.37\n"
     ]
    },
    {
     "output_type": "stream",
     "name": "stderr",
     "text": [
      "<ipython-input-37-1d9bda95d284>:4: UserWarning: Boolean Series key will be reindexed to match DataFrame index.\n",
      "  higher_education = df.loc[(df[\"education\"].str.startswith(\"B\")) | (df[\"education\"].str.startswith(\"M\")) | (df[\"education\"].str.startswith(\"D\"))][df[\"salary\"] == \">50K\"]\n"
     ]
    }
   ],
   "metadata": {}
  },
  {
   "cell_type": "code",
   "execution_count": 38,
   "source": [
    "# What is the minimum number of hours a person works per week (hours-per-week feature)?\r\n",
    "minimum_working_hours = df[\"hours-per-week\"].min()\r\n",
    "print(minimum_working_hours)"
   ],
   "outputs": [
    {
     "output_type": "stream",
     "name": "stdout",
     "text": [
      "1\n"
     ]
    }
   ],
   "metadata": {}
  },
  {
   "cell_type": "code",
   "execution_count": 41,
   "source": [
    "# What percentage of the people who work the minimum number of hours per week have a salary of >50K?\r\n",
    "\r\n",
    "min_work = df.loc[(df[\"hours-per-week\"] == 1)]\r\n",
    "num_min_workers = df.loc[(df[\"hours-per-week\"] == 1) & (df[\"salary\"] == \">50K\")]\r\n",
    "rich_percentage = round(100 * len(num_min_workers) / len(min_work) , 1)\r\n",
    "print(rich_percentage)"
   ],
   "outputs": [
    {
     "output_type": "stream",
     "name": "stdout",
     "text": [
      "10.0\n"
     ]
    }
   ],
   "metadata": {}
  },
  {
   "cell_type": "code",
   "execution_count": 57,
   "source": [
    "# What country has the highest percentage of people that earn >50K?\r\n",
    "\r\n",
    "country_people = df[\"native-country\"].value_counts()\r\n",
    "numerator = df.loc[(df[\"salary\"] == \">50K\")][\"native-country\"].value_counts()\r\n",
    "\r\n",
    "richest_country_percentage = round(100 * (numerator / country_people).max(), 1)\r\n",
    "richest_country = (numerator / country_people).sort_values(ascending = False).index[0]\r\n",
    "\r\n",
    "\r\n",
    "\r\n",
    "print(richest_country_percentage)\r\n",
    "print(richest_country)\r\n"
   ],
   "outputs": [
    {
     "output_type": "stream",
     "name": "stdout",
     "text": [
      "41.9\n",
      "Iran\n"
     ]
    }
   ],
   "metadata": {}
  },
  {
   "cell_type": "code",
   "execution_count": 65,
   "source": [
    "# Identify the most popular occupation for those who earn >50K in India.\r\n",
    "\r\n",
    "popular_occupation_india = df.loc[(df[\"native-country\"] == \"India\") & (df[\"salary\"] == \">50K\")][\"occupation\"]\r\n",
    "popular_occupation_india = pd.Series.mode(popular_occupation_india)[0]\r\n",
    "\r\n",
    "print(popular_occupation_india)"
   ],
   "outputs": [
    {
     "output_type": "stream",
     "name": "stdout",
     "text": [
      "Prof-specialty\n"
     ]
    }
   ],
   "metadata": {}
  },
  {
   "cell_type": "code",
   "execution_count": null,
   "source": [],
   "outputs": [],
   "metadata": {}
  }
 ],
 "metadata": {
  "orig_nbformat": 4,
  "language_info": {
   "name": "python",
   "version": "3.8.5",
   "mimetype": "text/x-python",
   "codemirror_mode": {
    "name": "ipython",
    "version": 3
   },
   "pygments_lexer": "ipython3",
   "nbconvert_exporter": "python",
   "file_extension": ".py"
  },
  "kernelspec": {
   "name": "python3",
   "display_name": "Python 3.8.5 64-bit ('base': conda)"
  },
  "interpreter": {
   "hash": "b454b224ce6a41940f39510cf6cc08295f13ff69c29190930925e48dd676922e"
  }
 },
 "nbformat": 4,
 "nbformat_minor": 2
}